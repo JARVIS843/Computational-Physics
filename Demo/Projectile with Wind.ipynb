{
 "cells": [
  {
   "cell_type": "code",
   "execution_count": 36,
   "id": "3bd7d930",
   "metadata": {},
   "outputs": [],
   "source": [
    "from math import *\n",
    "import matplotlib.pyplot as plt\n",
    "import numpy as np\n",
    "\n",
    "\n",
    "def Drag_with_Wind( theta, V0, b , m, w , theta1):\n",
    "    g = 9.8 ; dt = 0.001\n",
    "    theta = np.deg2rad(theta)\n",
    "    r0 = np.array([0.0,0.0])\n",
    "    Vinit = np.array([V0 * np.cos(theta) , V0 * np.sin(theta)])\n",
    "    Winit = np.array([w * np.cos(theta1) , w * np.sin(theta1)])\n",
    "    r = r0\n",
    "    w = Winit\n",
    "    v= Vinit\n",
    "    r_values = np.copy(r0)\n",
    "    #plt.arrow(0,0,w[0],w[1])\n",
    "    while r[1] >= 0:\n",
    "        # a = - b * np.linalg.norm(v)*v/m + np.array([0,-g])\n",
    "        a = -g - b/m * abs(v-w) * (v -w)\n",
    "        v += a*dt\n",
    "        r += v*dt\n",
    "        r_values = np.vstack((r_values,r)) ; plt.axis('equal')\n",
    "        \n",
    "    \n",
    "    plt.plot(r_values[:,0] , r_values[: , 1] , 'r') ; plt.grid() ; plt.axhline() ; plt.axvline()\n",
    "    return (r_values[-1:,0][0] , theta)\n"
   ]
  },
  {
   "cell_type": "code",
   "execution_count": 53,
   "id": "5cfd5149",
   "metadata": {},
   "outputs": [
    {
     "data": {
      "text/plain": [
       "(0.019796773392465643, 0.6187192198319899)"
      ]
     },
     "execution_count": 53,
     "metadata": {},
     "output_type": "execute_result"
    },
    {
     "data": {
      "image/png": "[encoded data removed]",
      "text/plain": [
       "<Figure size 432x288 with 1 Axes>"
      ]
     },
     "metadata": {
      "needs_background": "light"
     },
     "output_type": "display_data"
    }
   ],
   "source": [
    "Drag_with_Wind(35.45,20,0.47,0.62, 1 , -200)"
   ]
  },
  {
   "cell_type": "code",
   "execution_count": null,
   "id": "442b6dc9",
   "metadata": {},
   "outputs": [],
   "source": []
  },
  {
   "cell_type": "code",
   "execution_count": null,
   "id": "0a666831",
   "metadata": {},
   "outputs": [],
   "source": []
  }
 ],
 "metadata": {
  "kernelspec": {
   "display_name": "Python 3",
   "language": "python",
   "name": "python3"
  },
  "language_info": {
   "codemirror_mode": {
    "name": "ipython",
    "version": 3
   },
   "file_extension": ".py",
   "mimetype": "text/x-python",
   "name": "python",
   "nbconvert_exporter": "python",
   "pygments_lexer": "ipython3",
   "version": "3.8.8"
  }
 },
 "nbformat": 4,
 "nbformat_minor": 5
}
