{
 "cells": [
  {
   "cell_type": "code",
   "execution_count": 2,
   "id": "0d0aaa4f",
   "metadata": {},
   "outputs": [],
   "source": [
    "import random\n",
    "import matplotlib.pyplot as plt\n",
    "import numpy as np"
   ]
  },
  {
   "cell_type": "code",
   "execution_count": null,
   "id": "fb17ca37",
   "metadata": {},
   "outputs": [],
   "source": [
    "coord1 = [1,0] , [0,0]\n",
    "coord2 = [0,0] , [0.5 ,0.5* (np.sqrt(3))]\n",
    "coord3 = [0.5 ,0.5* (np.sqrt(3))] , [1,0]\n",
    "\n",
    "#Translate the coordinates to plot\n",
    "x1, y1 = [coord1[0][0],coord1[1][0]],[coord1[0][1],coord1[1][1]]\n",
    "x2,y2 = [coord2[0][0],coord2[1][0]],[coord2[0][1],coord2[1][1]]\n",
    "x3 ,y3 = [coord3[0][0],coord3[1][0]] , [coord3[0][1],coord3[1][1]]\n",
    "\n",
    "#select random vertices\n",
    "plt.plot(x1 , y1 , x2 , y2, x3 , y3 , marker = 'o')\n",
    "plt.axis(\"equal\")\n",
    "ran = random.choice([coord1[0] , coord2[0] , coord3[0]])\n",
    "#plt.plot(ran[0],ran[1],'o')\n",
    "\n",
    "#initiate\n",
    "RPx = random.uniform(0,1)\n",
    "RPy = random.uniform(0,1)\n",
    "plt.plot(RPx,RPy,'o')\n",
    "\n",
    "#Iterations\n",
    "for iteration in range(0,100000):\n",
    "    midx = (RPx + ran[0])/2\n",
    "    midy = (RPy + ran[1])/2\n",
    "    plt.plot(midx, midy,',')\n",
    "    RPx = midx; RPy = midy\n",
    "    ran = random.choice([coord1[0] , coord2[0] , coord3[0]])\n"
   ]
  },
  {
   "cell_type": "code",
   "execution_count": null,
   "id": "0f22f436",
   "metadata": {},
   "outputs": [],
   "source": []
  },
  {
   "cell_type": "code",
   "execution_count": null,
   "id": "7a92ac92",
   "metadata": {},
   "outputs": [],
   "source": []
  },
  {
   "cell_type": "code",
   "execution_count": null,
   "id": "377ff864",
   "metadata": {},
   "outputs": [],
   "source": []
  }
 ],
 "metadata": {
  "kernelspec": {
   "display_name": "Python 3",
   "language": "python",
   "name": "python3"
  },
  "language_info": {
   "codemirror_mode": {
    "name": "ipython",
    "version": 3
   },
   "file_extension": ".py",
   "mimetype": "text/x-python",
   "name": "python",
   "nbconvert_exporter": "python",
   "pygments_lexer": "ipython3",
   "version": "3.8.8"
  }
 },
 "nbformat": 4,
 "nbformat_minor": 5
}
