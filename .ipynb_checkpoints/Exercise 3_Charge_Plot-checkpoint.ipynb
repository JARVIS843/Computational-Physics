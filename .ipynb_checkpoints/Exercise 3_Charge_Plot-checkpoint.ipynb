{
 "cells": [
  {
   "cell_type": "code",
   "execution_count": 69,
   "id": "54d5788c",
   "metadata": {},
   "outputs": [],
   "source": [
    "import matplotlib.pyplot as plt\n",
    "import numpy as np\n",
    "from math import *"
   ]
  },
  {
   "cell_type": "code",
   "execution_count": 106,
   "id": "0dc12fd0",
   "metadata": {},
   "outputs": [],
   "source": [
    "def Charge(t = 0.1):\n",
    "    q0 = 10 ; R = 60 ; L = 9 ; C = 0.00005\n",
    "    charge = q0 * e**((-R*t)/(2*L)) * np.cos(t * sqrt((1/(L*C)) - (R/(2*L))**2))\n",
    "    return charge\n"
   ]
  },
  {
   "cell_type": "code",
   "execution_count": null,
   "id": "46c5b885",
   "metadata": {},
   "outputs": [],
   "source": [
    "TimeList = np.linspace(0,0.8,100)"
   ]
  },
  {
   "cell_type": "code",
   "execution_count": null,
   "id": "2f61a06c",
   "metadata": {},
   "outputs": [],
   "source": [
    "plt.plot(TimeList , Charge(TimeList) )"
   ]
  },
  {
   "cell_type": "code",
   "execution_count": null,
   "id": "5dca08da",
   "metadata": {},
   "outputs": [],
   "source": []
  },
  {
   "cell_type": "code",
   "execution_count": null,
   "id": "b5b690dd",
   "metadata": {},
   "outputs": [],
   "source": []
  }
 ],
 "metadata": {
  "kernelspec": {
   "display_name": "Python 3",
   "language": "python",
   "name": "python3"
  },
  "language_info": {
   "codemirror_mode": {
    "name": "ipython",
    "version": 3
   },
   "file_extension": ".py",
   "mimetype": "text/x-python",
   "name": "python",
   "nbconvert_exporter": "python",
   "pygments_lexer": "ipython3",
   "version": "3.8.8"
  }
 },
 "nbformat": 4,
 "nbformat_minor": 5
}
