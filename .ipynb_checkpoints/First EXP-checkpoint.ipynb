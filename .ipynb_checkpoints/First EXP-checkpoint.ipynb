{
 "cells": [
  {
   "cell_type": "code",
   "execution_count": 2,
   "id": "f01b7e9c",
   "metadata": {},
   "outputs": [],
   "source": [
    "def Add(a,b):\n",
    "    return a+b"
   ]
  },
  {
   "cell_type": "code",
   "execution_count": 3,
   "id": "13bfafc3",
   "metadata": {},
   "outputs": [
    {
     "data": {
      "text/plain": [
       "3"
      ]
     },
     "execution_count": 3,
     "metadata": {},
     "output_type": "execute_result"
    }
   ],
   "source": [
    "Add(1,2)"
   ]
  },
  {
   "cell_type": "code",
   "execution_count": 61,
   "id": "e82b71af",
   "metadata": {},
   "outputs": [],
   "source": [
    "import numpy as np"
   ]
  },
  {
   "cell_type": "code",
   "execution_count": 62,
   "id": "0c76eb92",
   "metadata": {},
   "outputs": [
    {
     "name": "stdout",
     "output_type": "stream",
     "text": [
      "1.0\n"
     ]
    }
   ],
   "source": [
    "print(cos(0))"
   ]
  },
  {
   "cell_type": "code",
   "execution_count": 63,
   "id": "bf2e7829",
   "metadata": {},
   "outputs": [
    {
     "name": "stdout",
     "output_type": "stream",
     "text": [
      "\f",
      "\n"
     ]
    }
   ],
   "source": [
    "cls"
   ]
  },
  {
   "cell_type": "code",
   "execution_count": 64,
   "id": "33862cfe",
   "metadata": {},
   "outputs": [],
   "source": [
    "import numpy as np"
   ]
  },
  {
   "cell_type": "code",
   "execution_count": 65,
   "id": "08b1b483",
   "metadata": {},
   "outputs": [
    {
     "data": {
      "text/plain": [
       "0.49999999999999994"
      ]
     },
     "execution_count": 65,
     "metadata": {},
     "output_type": "execute_result"
    }
   ],
   "source": [
    "np.sin(deg2rad(30))"
   ]
  },
  {
   "cell_type": "code",
   "execution_count": 66,
   "id": "3b3dc723",
   "metadata": {},
   "outputs": [
    {
     "data": {
      "text/plain": [
       "0.49999999999999994"
      ]
     },
     "execution_count": 66,
     "metadata": {},
     "output_type": "execute_result"
    }
   ],
   "source": [
    "sin(deg2rad(30))"
   ]
  },
  {
   "cell_type": "code",
   "execution_count": 67,
   "id": "b5cd11e1",
   "metadata": {},
   "outputs": [],
   "source": [
    "import matplotlib.pyplot as plt"
   ]
  },
  {
   "cell_type": "code",
   "execution_count": 68,
   "id": "ffb3fd80",
   "metadata": {},
   "outputs": [
    {
     "name": "stdout",
     "output_type": "stream",
     "text": [
      "Hello World\n"
     ]
    }
   ],
   "source": [
    "name = \"Hello\"\n",
    "print(f\"{name} World\")"
   ]
  },
  {
   "cell_type": "code",
   "execution_count": 69,
   "id": "b4119f97",
   "metadata": {},
   "outputs": [],
   "source": [
    "v0 = 100; theta = deg2rad(50) ; g = 9.8"
   ]
  },
  {
   "cell_type": "code",
   "execution_count": 70,
   "id": "06423547",
   "metadata": {},
   "outputs": [],
   "source": [
    "t = 2 * v0 * sin(theta)/g"
   ]
  },
  {
   "cell_type": "code",
   "execution_count": 71,
   "id": "21966d6d",
   "metadata": {},
   "outputs": [
    {
     "data": {
      "text/plain": [
       "15.633560063652613"
      ]
     },
     "execution_count": 71,
     "metadata": {},
     "output_type": "execute_result"
    }
   ],
   "source": [
    "t"
   ]
  },
  {
   "cell_type": "code",
   "execution_count": 72,
   "id": "03fe6ed2",
   "metadata": {},
   "outputs": [],
   "source": [
    "t = np.linspace(0,t,100)"
   ]
  },
  {
   "cell_type": "code",
   "execution_count": 73,
   "id": "f515953e",
   "metadata": {},
   "outputs": [
    {
     "data": {
      "text/plain": [
       "array([ 0.        ,  0.15791475,  0.3158295 ,  0.47374424,  0.63165899,\n",
       "        0.78957374,  0.94748849,  1.10540324,  1.26331798,  1.42123273,\n",
       "        1.57914748,  1.73706223,  1.89497698,  2.05289173,  2.21080647,\n",
       "        2.36872122,  2.52663597,  2.68455072,  2.84246547,  3.00038021,\n",
       "        3.15829496,  3.31620971,  3.47412446,  3.63203921,  3.78995395,\n",
       "        3.9478687 ,  4.10578345,  4.2636982 ,  4.42161295,  4.5795277 ,\n",
       "        4.73744244,  4.89535719,  5.05327194,  5.21118669,  5.36910144,\n",
       "        5.52701618,  5.68493093,  5.84284568,  6.00076043,  6.15867518,\n",
       "        6.31658992,  6.47450467,  6.63241942,  6.79033417,  6.94824892,\n",
       "        7.10616367,  7.26407841,  7.42199316,  7.57990791,  7.73782266,\n",
       "        7.89573741,  8.05365215,  8.2115669 ,  8.36948165,  8.5273964 ,\n",
       "        8.68531115,  8.84322589,  9.00114064,  9.15905539,  9.31697014,\n",
       "        9.47488489,  9.63279964,  9.79071438,  9.94862913, 10.10654388,\n",
       "       10.26445863, 10.42237338, 10.58028812, 10.73820287, 10.89611762,\n",
       "       11.05403237, 11.21194712, 11.36986186, 11.52777661, 11.68569136,\n",
       "       11.84360611, 12.00152086, 12.15943561, 12.31735035, 12.4752651 ,\n",
       "       12.63317985, 12.7910946 , 12.94900935, 13.10692409, 13.26483884,\n",
       "       13.42275359, 13.58066834, 13.73858309, 13.89649783, 14.05441258,\n",
       "       14.21232733, 14.37024208, 14.52815683, 14.68607157, 14.84398632,\n",
       "       15.00190107, 15.15981582, 15.31773057, 15.47564532, 15.63356006])"
      ]
     },
     "execution_count": 73,
     "metadata": {},
     "output_type": "execute_result"
    }
   ],
   "source": [
    "t"
   ]
  },
  {
   "cell_type": "code",
   "execution_count": 80,
   "id": "81cce57b",
   "metadata": {},
   "outputs": [],
   "source": [
    "x = v0 * cos(theta)*t"
   ]
  },
  {
   "cell_type": "code",
   "execution_count": 81,
   "id": "54c1c16a",
   "metadata": {},
   "outputs": [],
   "source": [
    "y = v0 * sin(theta)*t - 1/2 * g *t**2"
   ]
  },
  {
   "cell_type": "code",
   "execution_count": 85,
   "id": "37e52a16",
   "metadata": {},
   "outputs": [
    {
     "data": {
      "image/png": "[encoded data removed]",
      "text/plain": [
       "<Figure size 432x288 with 1 Axes>"
      ]
     },
     "metadata": {
      "needs_background": "light"
     },
     "output_type": "display_data"
    }
   ],
   "source": [
    "plot(x,y) ; axis(\"equal\") ; axvline(color = 'red') ; axhline(color = \"red\") ; grid()"
   ]
  },
  {
   "cell_type": "code",
   "execution_count": null,
   "id": "45b7e5e7",
   "metadata": {},
   "outputs": [],
   "source": []
  },
  {
   "cell_type": "code",
   "execution_count": null,
   "id": "8aba1bf7",
   "metadata": {},
   "outputs": [],
   "source": []
  },
  {
   "cell_type": "code",
   "execution_count": null,
   "id": "d7726fed",
   "metadata": {},
   "outputs": [],
   "source": []
  }
 ],
 "metadata": {
  "kernelspec": {
   "display_name": "Python 3",
   "language": "python",
   "name": "python3"
  },
  "language_info": {
   "codemirror_mode": {
    "name": "ipython",
    "version": 3
   },
   "file_extension": ".py",
   "mimetype": "text/x-python",
   "name": "python",
   "nbconvert_exporter": "python",
   "pygments_lexer": "ipython3",
   "version": "3.8.8"
  }
 },
 "nbformat": 4,
 "nbformat_minor": 5
}
