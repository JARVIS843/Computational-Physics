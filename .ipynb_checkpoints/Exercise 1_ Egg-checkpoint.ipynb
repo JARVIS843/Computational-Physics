{
 "cells": [
  {
   "cell_type": "code",
   "execution_count": 27,
   "id": "7bde520e",
   "metadata": {},
   "outputs": [],
   "source": [
    "import numpy\n",
    "from math import *\n",
    "def Calculation():\n",
    "    M = int (input(\"input mass: \")); p = 1.038 ; c = 3.7 ; K = 5.4 * 10 **-3 ; Tw = 100 ; Ty = 70; T0 =  int (input(\"Input initial temp: \"))\n",
    "    t = (M**(2/3) * c * p**(1/3))/(K * pi**2 * (4 * pi /3)**(2/3)) * log(e,0.76 * ((T0 - Tw)/(Ty - Tw)))\n",
    "    return t"
   ]
  },
  {
   "cell_type": "code",
   "execution_count": 29,
   "id": "7af07ec0",
   "metadata": {},
   "outputs": [
    {
     "name": "stdout",
     "output_type": "stream",
     "text": [
      "input mass: 67\n",
      "Input initial temp: 20\n",
      "Minute: 10 \n",
      "Seconds: 31.71149027177455\n"
     ]
    }
   ],
   "source": [
    "seconds = Calculation()\n",
    "minute = floor(seconds / 60)\n",
    "seconds = seconds % 60\n",
    "print(f\"Minute: {minute} \\nSeconds: {seconds}\")"
   ]
  },
  {
   "cell_type": "code",
   "execution_count": null,
   "id": "79a62daf",
   "metadata": {},
   "outputs": [],
   "source": []
  },
  {
   "cell_type": "code",
   "execution_count": null,
   "id": "33395055",
   "metadata": {},
   "outputs": [],
   "source": []
  },
  {
   "cell_type": "code",
   "execution_count": null,
   "id": "0a70e4d9",
   "metadata": {},
   "outputs": [],
   "source": []
  }
 ],
 "metadata": {
  "kernelspec": {
   "display_name": "Python 3",
   "language": "python",
   "name": "python3"
  },
  "language_info": {
   "codemirror_mode": {
    "name": "ipython",
    "version": 3
   },
   "file_extension": ".py",
   "mimetype": "text/x-python",
   "name": "python",
   "nbconvert_exporter": "python",
   "pygments_lexer": "ipython3",
   "version": "3.8.8"
  }
 },
 "nbformat": 4,
 "nbformat_minor": 5
}
