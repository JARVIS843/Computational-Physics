{
 "cells": [
  {
   "cell_type": "code",
   "execution_count": 12,
   "id": "25244634",
   "metadata": {},
   "outputs": [],
   "source": [
    "from numpy import *\n",
    "import matplotlib.pyplot as plt\n",
    "\n",
    "def Piecewise_Func(t):\n",
    "    if t < 0:\n",
    "        return 0\n",
    "    elif (0>=t and t<=8):\n",
    "        return 10* t * 2 - 5 * t\n",
    "    elif (8>=t and t<=16):\n",
    "        return 624 - 5 * t\n",
    "    elif (16>=t and t<=26):\n",
    "        return 36*t + 12*(t-16)\n",
    "    else:\n",
    "        return 2136 * e**(-0.1 * (t-26))"
   ]
  },
  {
   "cell_type": "code",
   "execution_count": 15,
   "id": "a8e9466e",
   "metadata": {},
   "outputs": [
    {
     "data": {
      "image/png": "[encoded data removed]",
      "text/plain": [
       "<Figure size 432x288 with 1 Axes>"
      ]
     },
     "metadata": {
      "needs_background": "light"
     },
     "output_type": "display_data"
    }
   ],
   "source": [
    "t = linspace(-5,50,1000)\n",
    "for items in range(0,len(t)):\n",
    "    Result = Piecewise_Func(t[items])\n",
    "    plt.plot(t[items],Result,'o')"
   ]
  },
  {
   "cell_type": "code",
   "execution_count": null,
   "id": "fd30c257",
   "metadata": {},
   "outputs": [],
   "source": []
  },
  {
   "cell_type": "code",
   "execution_count": null,
   "id": "a83b9ac5",
   "metadata": {},
   "outputs": [],
   "source": []
  }
 ],
 "metadata": {
  "kernelspec": {
   "display_name": "Python 3",
   "language": "python",
   "name": "python3"
  },
  "language_info": {
   "codemirror_mode": {
    "name": "ipython",
    "version": 3
   },
   "file_extension": ".py",
   "mimetype": "text/x-python",
   "name": "python",
   "nbconvert_exporter": "python",
   "pygments_lexer": "ipython3",
   "version": "3.8.8"
  }
 },
 "nbformat": 4,
 "nbformat_minor": 5
}
