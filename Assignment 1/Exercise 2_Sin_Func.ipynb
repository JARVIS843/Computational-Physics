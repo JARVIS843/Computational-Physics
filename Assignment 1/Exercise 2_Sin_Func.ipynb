{
 "cells": [
  {
   "cell_type": "code",
   "execution_count": 1,
   "id": "e4c2a92f",
   "metadata": {},
   "outputs": [],
   "source": [
    "from math import factorial\n",
    "def TaylorSeriers(order = 1 , x = 1):\n",
    "    total = 0\n",
    "    odd = 1\n",
    "    for items in range(1 , order + 1):\n",
    "        if items % 2 == 0:\n",
    "            total -= (x**odd)/factorial(odd)\n",
    "        else:\n",
    "            total += (x**odd)/factorial(odd)\n",
    "        odd +=2\n",
    "    return total"
   ]
  },
  {
   "cell_type": "code",
   "execution_count": 2,
   "id": "ea8f82fc",
   "metadata": {},
   "outputs": [
    {
     "data": {
      "text/plain": [
       "0.783326909627483"
      ]
     },
     "execution_count": 2,
     "metadata": {},
     "output_type": "execute_result"
    }
   ],
   "source": [
    "TaylorSeriers(8,0.9)"
   ]
  },
  {
   "cell_type": "code",
   "execution_count": 3,
   "id": "e48510d6",
   "metadata": {},
   "outputs": [],
   "source": [
    "from numpy import sin\n",
    "\n",
    "result = TaylorSeriers(8,0.9)\n",
    "\n",
    "def Error(approximation , xvalue):\n",
    "    error = (sin(xvalue) - approximation)/sin(xvalue) * 100\n",
    "    print(f\"The Error of Sin({xvalue}) is: {error}%\")"
   ]
  },
  {
   "cell_type": "code",
   "execution_count": 4,
   "id": "8bc159ff",
   "metadata": {},
   "outputs": [
    {
     "name": "stdout",
     "output_type": "stream",
     "text": [
      "The Error of Sin(0.9) is: 5.669270446246412e-14%\n"
     ]
    }
   ],
   "source": [
    "Error(result , 0.9)"
   ]
  },
  {
   "cell_type": "code",
   "execution_count": null,
   "id": "b49c9240",
   "metadata": {},
   "outputs": [],
   "source": []
  }
 ],
 "metadata": {
  "kernelspec": {
   "display_name": "Python 3",
   "language": "python",
   "name": "python3"
  },
  "language_info": {
   "codemirror_mode": {
    "name": "ipython",
    "version": 3
   },
   "file_extension": ".py",
   "mimetype": "text/x-python",
   "name": "python",
   "nbconvert_exporter": "python",
   "pygments_lexer": "ipython3",
   "version": "3.8.8"
  }
 },
 "nbformat": 4,
 "nbformat_minor": 5
}
