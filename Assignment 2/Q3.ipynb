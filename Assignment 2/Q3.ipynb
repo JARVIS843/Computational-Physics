{
 "cells": [
  {
   "cell_type": "code",
   "execution_count": 12,
   "id": "890a2465",
   "metadata": {},
   "outputs": [],
   "source": [
    "from math import *\n",
    "import matplotlib.pyplot as plt\n",
    "import numpy as np\n",
    "\n",
    "def Population(p = 20,a = 10,b =  0.01, SampleSize = 1000):\n",
    "    t = np.linspace(0,10,SampleSize)\n",
    "    dt = t[1] - t[0]\n",
    "    N = np.zeros(len(t)) ; N[0] = p\n",
    "    for i in range(1, len(N)):\n",
    "        N[i] = N[i-1] + (a*N[i-1] - b*(N[i-1]**2)) * dt\n",
    "    plt.plot(t,N)"
   ]
  },
  {
   "cell_type": "code",
   "execution_count": 14,
   "id": "d6e945fb",
   "metadata": {},
   "outputs": [
    {
     "data": {
      "image/png": "[encoded data removed]",
      "text/plain": [
       "<Figure size 432x288 with 1 Axes>"
      ]
     },
     "metadata": {
      "needs_background": "light"
     },
     "output_type": "display_data"
    }
   ],
   "source": [
    "Population(20,10,0.01)"
   ]
  },
  {
   "cell_type": "code",
   "execution_count": 15,
   "id": "b82b1ca5",
   "metadata": {},
   "outputs": [],
   "source": [
    "def Pop2(N0 , a , b):\n",
    "    t = np.linspace(0,10,1000)\n",
    "    N = a / (b+((a-N0*b)/N0)*e**(-a*t))\n",
    "    plt.plot(t,N)"
   ]
  },
  {
   "cell_type": "code",
   "execution_count": 16,
   "id": "c338d17b",
   "metadata": {},
   "outputs": [
    {
     "data": {
      "image/png": "[encoded data removed]",
      "text/plain": [
       "<Figure size 432x288 with 1 Axes>"
      ]
     },
     "metadata": {
      "needs_background": "light"
     },
     "output_type": "display_data"
    }
   ],
   "source": [
    "Pop2(20,10,0.01)"
   ]
  },
  {
   "cell_type": "code",
   "execution_count": null,
   "id": "84333a35",
   "metadata": {},
   "outputs": [],
   "source": []
  }
 ],
 "metadata": {
  "kernelspec": {
   "display_name": "Python 3",
   "language": "python",
   "name": "python3"
  },
  "language_info": {
   "codemirror_mode": {
    "name": "ipython",
    "version": 3
   },
   "file_extension": ".py",
   "mimetype": "text/x-python",
   "name": "python",
   "nbconvert_exporter": "python",
   "pygments_lexer": "ipython3",
   "version": "3.8.8"
  }
 },
 "nbformat": 4,
 "nbformat_minor": 5
}
