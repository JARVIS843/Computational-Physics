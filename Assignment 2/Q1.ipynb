{
 "cells": [
  {
   "cell_type": "code",
   "execution_count": 27,
   "id": "dfa0d9bd",
   "metadata": {},
   "outputs": [],
   "source": [
    "from math import *\n",
    "import matplotlib.pyplot as plt\n",
    "import numpy as np\n",
    "\n",
    "def Friction(a = 10,b = 1 , SampleSize = 100):\n",
    "    t = np.linspace(0,10,SampleSize)\n",
    "    dt = t[1] - t[0]\n",
    "    V = np.zeros(len(t))\n",
    "    for i in range(1, len(V)):\n",
    "        V[i] = V[i-1] + (a- b * V[i-1]) * dt\n",
    "    plt.plot(t,V)"
   ]
  },
  {
   "cell_type": "code",
   "execution_count": 28,
   "id": "46e3570a",
   "metadata": {},
   "outputs": [
    {
     "data": {
      "image/png": "[encoded data removed]",
      "text/plain": [
       "<Figure size 432x288 with 1 Axes>"
      ]
     },
     "metadata": {
      "needs_background": "light"
     },
     "output_type": "display_data"
    }
   ],
   "source": [
    "Friction()"
   ]
  },
  {
   "cell_type": "code",
   "execution_count": null,
   "id": "9b643a18",
   "metadata": {},
   "outputs": [],
   "source": []
  }
 ],
 "metadata": {
  "kernelspec": {
   "display_name": "Python 3",
   "language": "python",
   "name": "python3"
  },
  "language_info": {
   "codemirror_mode": {
    "name": "ipython",
    "version": 3
   },
   "file_extension": ".py",
   "mimetype": "text/x-python",
   "name": "python",
   "nbconvert_exporter": "python",
   "pygments_lexer": "ipython3",
   "version": "3.8.8"
  }
 },
 "nbformat": 4,
 "nbformat_minor": 5
}
